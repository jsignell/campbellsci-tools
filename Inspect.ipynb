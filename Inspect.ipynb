{
 "cells": [
  {
   "cell_type": "markdown",
   "metadata": {},
   "source": [
    "## Example notebook for inspecting campbellsci files"
   ]
  },
  {
   "cell_type": "code",
   "execution_count": 11,
   "metadata": {
    "collapsed": false
   },
   "outputs": [],
   "source": [
    "import os\n",
    "import datetime as dt\n",
    "import pandas as pd\n",
    "import numpy as np\n",
    "import matplotlib.pyplot as plt\n",
    "import ipywidgets as widgets\n",
    "from IPython.display import display\n",
    "import mpld3 \n",
    "\n",
    "%matplotlib inline\n",
    "mpld3.enable_notebook()"
   ]
  },
  {
   "cell_type": "code",
   "execution_count": 33,
   "metadata": {
    "collapsed": true
   },
   "outputs": [],
   "source": [
    "path = '../../CloudStation/LoggerNet/'\n",
    "datafiles=['CR1000_Table1.dat',\n",
    "           'CR1000_Table2.dat',\n",
    "           'CR5000_onemin.dat',\n",
    "           'CR5000_flux.dat',\n",
    "           'CL06_CR1000_IP_Table1.dat',\n",
    "           'Wash_Strm_CR200_IP_Table1.dat',\n",
    "           'Upper WS CR200_Table1.dat'\n",
    "          ]"
   ]
  },
  {
   "cell_type": "code",
   "execution_count": 115,
   "metadata": {
    "collapsed": false
   },
   "outputs": [],
   "source": [
    "def read_campbellsci(path, datafile):\n",
    "    filename = path + datafile\n",
    "    df = pd.read_csv(filename, skiprows=[0,2,3], index_col=0, parse_dates=True)\n",
    "    f = open(filename, 'r')\n",
    "    lines = f.readlines()\n",
    "    f.close()\n",
    "    UnitsLine = lines[2]\n",
    "    \n",
    "    units = UnitsLine.replace('\"','').split(',')\n",
    "    if len(df)>60*24*3:\n",
    "        df = df.resample('1H', how='mean')\n",
    "    return df, units[1:]\n",
    "\n",
    "def select_param(datafile):\n",
    "    global df\n",
    "    global units\n",
    "    df, units = read_campbellsci(path, datafile)\n",
    "    paramW.options = list(df.columns)\n",
    "\n",
    "def plot_param(param):\n",
    "    global df\n",
    "    global units\n",
    "    fig, ax = plt.subplots()\n",
    "    df[param].plot(figsize=(3,2), marker='o', ax=ax)\n",
    "    plt.xlabel('Time (UTC)')\n",
    "    plt.ylabel(units[df.columns.get_loc(param)])\n",
    "    plt.title(param + ' (time in UTC)')\n",
    "    mpld3.save_html(fig, './output/{p}.html'.format(p=param))"
   ]
  },
  {
   "cell_type": "code",
   "execution_count": 116,
   "metadata": {
    "collapsed": false,
    "scrolled": true
   },
   "outputs": [
    {
     "data": {
      "image/png": "[encoded data removed]",
      "text/html": [
       "\n",
       "\n",
       "<style>\n",
       "\n",
       "</style>\n",
       "\n",
       "<div id=\"fig_el5311403082136475044968389399\"></div>\n",
       "<script>\n",
       "function mpld3_load_lib(url, callback){\n",
       "  var s = document.createElement('script');\n",
       "  s.src = url;\n",
       "  s.async = true;\n",
       "  s.onreadystatechange = s.onload = callback;\n",
       "  s.onerror = function(){console.warn(\"failed to load library \" + url);};\n",
       "  document.getElementsByTagName(\"head\")[0].appendChild(s);\n",
       "}\n",
       "\n",
       "if(typeof(mpld3) !== \"undefined\" && mpld3._mpld3IsLoaded){\n",
       "   // already loaded: just create the figure\n",
       "   !function(mpld3){\n",
       "       \n",
       "       mpld3.draw_figure(\"fig_el5311403082136475044968389399\", {\"axes\": [{\"xlim\": [402688.0, 402853.0], \"yscale\": \"linear\", \"axesbg\": \"#FFFFFF\", \"texts\": [{\"v_baseline\": \"hanging\", \"h_anchor\": \"middle\", \"color\": \"#000000\", \"text\": \"Time (UTC)\", \"coordinates\": \"axes\", \"zorder\": 3, \"alpha\": 1, \"fontsize\": 10.0, \"position\": [0.5, -0.34838709677419349], \"rotation\": -0.0, \"id\": \"el531140307591359312\"}, {\"v_baseline\": \"auto\", \"h_anchor\": \"middle\", \"color\": \"#000000\", \"text\": \"%\", \"coordinates\": \"axes\", \"zorder\": 3, \"alpha\": 1, \"fontsize\": 10.0, \"position\": [-0.16868279569892475, 0.5], \"rotation\": -90.0, \"id\": \"el531140307591248208\"}, {\"v_baseline\": \"auto\", \"h_anchor\": \"middle\", \"color\": \"#000000\", \"text\": \"RHCroof (time in UTC)\", \"coordinates\": \"axes\", \"zorder\": 3, \"alpha\": 1, \"fontsize\": 12.0, \"position\": [0.5, 1.0448028673835126], \"rotation\": -0.0, \"id\": \"el531140308232121552\"}], \"zoomable\": true, \"images\": [], \"xdomain\": [[2015, 11, 9, 16, 0, 0, 0], [2015, 11, 16, 13, 0, 0, 0]], \"ylim\": [40.0, 120.0], \"paths\": [], \"sharey\": [], \"sharex\": [], \"axesbgalpha\": null, \"axes\": [{\"scale\": \"linear\", \"tickformat\": null, \"grid\": {\"gridOn\": false}, \"fontsize\": 10.0, \"position\": \"bottom\", \"nticks\": 2, \"tickvalues\": null}, {\"scale\": \"linear\", \"tickformat\": null, \"grid\": {\"gridOn\": false}, \"fontsize\": 10.0, \"position\": \"left\", \"nticks\": 9, \"tickvalues\": null}], \"lines\": [{\"color\": \"#0000FF\", \"yindex\": 1, \"coordinates\": \"data\", \"dasharray\": \"10,0\", \"zorder\": 2, \"alpha\": 1, \"xindex\": 0, \"linewidth\": 1.0, \"data\": \"data01\", \"id\": \"el531140308214129296\"}], \"markers\": [{\"edgecolor\": \"#000000\", \"facecolor\": \"#0000FF\", \"edgewidth\": 0.5, \"yindex\": 1, \"coordinates\": \"data\", \"zorder\": 2, \"markerpath\": [[[0.0, 3.0], [0.7956093000000001, 3.0], [1.5587396123545605, 2.683901074764725], [2.121320343559643, 2.121320343559643], [2.683901074764725, 1.5587396123545605], [3.0, 0.7956093000000001], [3.0, 0.0], [3.0, -0.7956093000000001], [2.683901074764725, -1.5587396123545605], [2.121320343559643, -2.121320343559643], [1.5587396123545605, -2.683901074764725], [0.7956093000000001, -3.0], [0.0, -3.0], [-0.7956093000000001, -3.0], [-1.5587396123545605, -2.683901074764725], [-2.121320343559643, -2.121320343559643], [-2.683901074764725, -1.5587396123545605], [-3.0, -0.7956093000000001], [-3.0, 0.0], [-3.0, 0.7956093000000001], [-2.683901074764725, 1.5587396123545605], [-2.121320343559643, 2.121320343559643], [-1.5587396123545605, 2.683901074764725], [-0.7956093000000001, 3.0], [0.0, 3.0]], [\"M\", \"C\", \"C\", \"C\", \"C\", \"C\", \"C\", \"C\", \"C\", \"Z\"]], \"alpha\": 1, \"xindex\": 0, \"data\": \"data01\", \"id\": \"el531140308214129296pts\"}], \"id\": \"el531140308209812432\", \"ydomain\": [40.0, 120.0], \"collections\": [], \"xscale\": \"date\", \"bbox\": [0.125, 0.125, 0.77500000000000002, 0.77500000000000002]}], \"height\": 160.0, \"width\": 240.0, \"plugins\": [{\"type\": \"reset\"}, {\"enabled\": false, \"button\": true, \"type\": \"zoom\"}, {\"enabled\": false, \"button\": true, \"type\": \"boxzoom\"}], \"data\": {\"data01\": [[402688.0, 62.99], [402689.0, 58.11], [402690.0, 55.08], [402691.0, 58.2], [402692.0, 59.64], [402693.0, 63.84], [402694.0, 67.63], [402695.0, 73.4], [402696.0, 77.76], [402697.0, 79.64], [402698.0, 80.9], [402699.0, 83.5], [402700.0, 84.0], [402701.0, 82.5], [402702.0, 83.7], [402703.0, 86.2], [402704.0, 87.0], [402705.0, 86.8], [402706.0, 88.6], [402707.0, 91.1], [402708.0, 91.5], [402709.0, 92.3], [402710.0, 86.2], [402711.0, 80.1], [402712.0, 70.28], [402713.0, 64.54], [402714.0, 58.91], [402715.0, 52.39], [402716.0, 51.14], [402717.0, 53.12], [402718.0, 60.77], [402719.0, 66.15], [402720.0, 66.52], [402721.0, 74.91], [402722.0, 74.51], [402723.0, 79.7], [402724.0, 84.4], [402725.0, 86.6], [402726.0, 88.7], [402727.0, 88.7], [402728.0, 90.8], [402729.0, 91.4], [402730.0, 93.3], [402731.0, 96.2], [402732.0, 95.1], [402733.0, 99.1], [402734.0, 93.6], [402735.0, 90.0], [402736.0, 79.77], [402737.0, 71.96], [402738.0, 66.12], [402739.0, 63.26], [402740.0, 65.8], [402741.0, 66.78], [402742.0, 69.64], [402743.0, 71.42], [402744.0, 76.18], [402745.0, 79.27], [402746.0, 78.33], [402747.0, 78.4], [402748.0, 81.7], [402749.0, 83.2], [402750.0, 82.6], [402751.0, 80.2], [402752.0, 86.8], [402753.0, 86.9], [402754.0, 89.3], [402755.0, 90.3], [402756.0, 91.0], [402757.0, 95.1], [402758.0, 84.6], [402759.0, 73.26], [402760.0, 62.19], [402761.0, 61.44], [402762.0, 58.38], [402763.0, 56.74], [402764.0, 56.71], [402765.0, 56.41], [402766.0, 59.05], [402767.0, 64.96], [402768.0, 70.62], [402769.0, 73.51], [402770.0, 71.43], [402771.0, 71.53], [402772.0, 73.24], [402773.0, 74.59], [402774.0, 77.27], [402775.0, 77.31], [402776.0, 80.6], [402777.0, 80.7], [402778.0, 81.7], [402779.0, 84.2], [402780.0, 85.6], [402781.0, 86.1], [402782.0, 85.0], [402783.0, 78.35], [402784.0, 62.88], [402785.0, 62.47], [402786.0, 58.38], [402787.0, 58.34], [402788.0, 61.05], [402789.0, 63.77], [402790.0, 68.13], [402791.0, 72.57], [402792.0, 78.67], [402793.0, 84.7], [402794.0, 90.0], [402795.0, 92.7], [402796.0, 99.8], [402797.0, 110.4], [402798.0, 111.9], [402799.0, 112.7], [402800.0, 113.6], [402801.0, 114.0], [402802.0, 114.0], [402803.0, 114.1], [402804.0, 114.3], [402805.0, 114.4], [402806.0, 114.5], [402807.0, 114.6], [402808.0, 114.4], [402809.0, 114.5], [402810.0, 114.5], [402811.0, 78.27], [402812.0, 73.84], [402813.0, 73.54], [402814.0, 71.23], [402815.0, 74.95], [402816.0, 90.5], [402817.0, 112.3], [402818.0, 111.9], [402819.0, 98.9], [402820.0, 103.2], [402821.0, 95.6], [402822.0, 91.5], [402823.0, 84.6], [402824.0, 77.85], [402825.0, 70.91], [402826.0, 63.93], [402827.0, 57.06], [402828.0, 57.46], [402829.0, 57.53], [402830.0, 51.73], [402831.0, 49.21], [402832.0, 49.21], [402833.0, 46.49], [402834.0, 46.49], [402835.0, 46.56], [402836.0, 44.28], [402837.0, 45.32], [402838.0, 49.48], [402839.0, 51.59], [402840.0, 56.66], [402841.0, 61.09], [402842.0, 60.15], [402843.0, 60.05], [402844.0, 59.38], [402845.0, 61.42], [402846.0, 62.43], [402847.0, 61.86], [402848.0, 61.21], [402849.0, 62.38], [402850.0, 63.69], [402851.0, 64.06], [402852.0, 66.44], [402853.0, 66.01]]}, \"id\": \"el531140308213647504\"});\n",
       "   }(mpld3);\n",
       "}else if(typeof define === \"function\" && define.amd){\n",
       "   // require.js is available: use it to load d3/mpld3\n",
       "   require.config({paths: {d3: \"https://mpld3.github.io/js/d3.v3.min\"}});\n",
       "   require([\"d3\"], function(d3){\n",
       "      window.d3 = d3;\n",
       "      mpld3_load_lib(\"https://mpld3.github.io/js/mpld3.v0.2.js\", function(){\n",
       "         \n",
       "         mpld3.draw_figure(\"fig_el5311403082136475044968389399\", {\"axes\": [{\"xlim\": [402688.0, 402853.0], \"yscale\": \"linear\", \"axesbg\": \"#FFFFFF\", \"texts\": [{\"v_baseline\": \"hanging\", \"h_anchor\": \"middle\", \"color\": \"#000000\", \"text\": \"Time (UTC)\", \"coordinates\": \"axes\", \"zorder\": 3, \"alpha\": 1, \"fontsize\": 10.0, \"position\": [0.5, -0.34838709677419349], \"rotation\": -0.0, \"id\": \"el531140307591359312\"}, {\"v_baseline\": \"auto\", \"h_anchor\": \"middle\", \"color\": \"#000000\", \"text\": \"%\", \"coordinates\": \"axes\", \"zorder\": 3, \"alpha\": 1, \"fontsize\": 10.0, \"position\": [-0.16868279569892475, 0.5], \"rotation\": -90.0, \"id\": \"el531140307591248208\"}, {\"v_baseline\": \"auto\", \"h_anchor\": \"middle\", \"color\": \"#000000\", \"text\": \"RHCroof (time in UTC)\", \"coordinates\": \"axes\", \"zorder\": 3, \"alpha\": 1, \"fontsize\": 12.0, \"position\": [0.5, 1.0448028673835126], \"rotation\": -0.0, \"id\": \"el531140308232121552\"}], \"zoomable\": true, \"images\": [], \"xdomain\": [[2015, 11, 9, 16, 0, 0, 0], [2015, 11, 16, 13, 0, 0, 0]], \"ylim\": [40.0, 120.0], \"paths\": [], \"sharey\": [], \"sharex\": [], \"axesbgalpha\": null, \"axes\": [{\"scale\": \"linear\", \"tickformat\": null, \"grid\": {\"gridOn\": false}, \"fontsize\": 10.0, \"position\": \"bottom\", \"nticks\": 2, \"tickvalues\": null}, {\"scale\": \"linear\", \"tickformat\": null, \"grid\": {\"gridOn\": false}, \"fontsize\": 10.0, \"position\": \"left\", \"nticks\": 9, \"tickvalues\": null}], \"lines\": [{\"color\": \"#0000FF\", \"yindex\": 1, \"coordinates\": \"data\", \"dasharray\": \"10,0\", \"zorder\": 2, \"alpha\": 1, \"xindex\": 0, \"linewidth\": 1.0, \"data\": \"data01\", \"id\": \"el531140308214129296\"}], \"markers\": [{\"edgecolor\": \"#000000\", \"facecolor\": \"#0000FF\", \"edgewidth\": 0.5, \"yindex\": 1, \"coordinates\": \"data\", \"zorder\": 2, \"markerpath\": [[[0.0, 3.0], [0.7956093000000001, 3.0], [1.5587396123545605, 2.683901074764725], [2.121320343559643, 2.121320343559643], [2.683901074764725, 1.5587396123545605], [3.0, 0.7956093000000001], [3.0, 0.0], [3.0, -0.7956093000000001], [2.683901074764725, -1.5587396123545605], [2.121320343559643, -2.121320343559643], [1.5587396123545605, -2.683901074764725], [0.7956093000000001, -3.0], [0.0, -3.0], [-0.7956093000000001, -3.0], [-1.5587396123545605, -2.683901074764725], [-2.121320343559643, -2.121320343559643], [-2.683901074764725, -1.5587396123545605], [-3.0, -0.7956093000000001], [-3.0, 0.0], [-3.0, 0.7956093000000001], [-2.683901074764725, 1.5587396123545605], [-2.121320343559643, 2.121320343559643], [-1.5587396123545605, 2.683901074764725], [-0.7956093000000001, 3.0], [0.0, 3.0]], [\"M\", \"C\", \"C\", \"C\", \"C\", \"C\", \"C\", \"C\", \"C\", \"Z\"]], \"alpha\": 1, \"xindex\": 0, \"data\": \"data01\", \"id\": \"el531140308214129296pts\"}], \"id\": \"el531140308209812432\", \"ydomain\": [40.0, 120.0], \"collections\": [], \"xscale\": \"date\", \"bbox\": [0.125, 0.125, 0.77500000000000002, 0.77500000000000002]}], \"height\": 160.0, \"width\": 240.0, \"plugins\": [{\"type\": \"reset\"}, {\"enabled\": false, \"button\": true, \"type\": \"zoom\"}, {\"enabled\": false, \"button\": true, \"type\": \"boxzoom\"}], \"data\": {\"data01\": [[402688.0, 62.99], [402689.0, 58.11], [402690.0, 55.08], [402691.0, 58.2], [402692.0, 59.64], [402693.0, 63.84], [402694.0, 67.63], [402695.0, 73.4], [402696.0, 77.76], [402697.0, 79.64], [402698.0, 80.9], [402699.0, 83.5], [402700.0, 84.0], [402701.0, 82.5], [402702.0, 83.7], [402703.0, 86.2], [402704.0, 87.0], [402705.0, 86.8], [402706.0, 88.6], [402707.0, 91.1], [402708.0, 91.5], [402709.0, 92.3], [402710.0, 86.2], [402711.0, 80.1], [402712.0, 70.28], [402713.0, 64.54], [402714.0, 58.91], [402715.0, 52.39], [402716.0, 51.14], [402717.0, 53.12], [402718.0, 60.77], [402719.0, 66.15], [402720.0, 66.52], [402721.0, 74.91], [402722.0, 74.51], [402723.0, 79.7], [402724.0, 84.4], [402725.0, 86.6], [402726.0, 88.7], [402727.0, 88.7], [402728.0, 90.8], [402729.0, 91.4], [402730.0, 93.3], [402731.0, 96.2], [402732.0, 95.1], [402733.0, 99.1], [402734.0, 93.6], [402735.0, 90.0], [402736.0, 79.77], [402737.0, 71.96], [402738.0, 66.12], [402739.0, 63.26], [402740.0, 65.8], [402741.0, 66.78], [402742.0, 69.64], [402743.0, 71.42], [402744.0, 76.18], [402745.0, 79.27], [402746.0, 78.33], [402747.0, 78.4], [402748.0, 81.7], [402749.0, 83.2], [402750.0, 82.6], [402751.0, 80.2], [402752.0, 86.8], [402753.0, 86.9], [402754.0, 89.3], [402755.0, 90.3], [402756.0, 91.0], [402757.0, 95.1], [402758.0, 84.6], [402759.0, 73.26], [402760.0, 62.19], [402761.0, 61.44], [402762.0, 58.38], [402763.0, 56.74], [402764.0, 56.71], [402765.0, 56.41], [402766.0, 59.05], [402767.0, 64.96], [402768.0, 70.62], [402769.0, 73.51], [402770.0, 71.43], [402771.0, 71.53], [402772.0, 73.24], [402773.0, 74.59], [402774.0, 77.27], [402775.0, 77.31], [402776.0, 80.6], [402777.0, 80.7], [402778.0, 81.7], [402779.0, 84.2], [402780.0, 85.6], [402781.0, 86.1], [402782.0, 85.0], [402783.0, 78.35], [402784.0, 62.88], [402785.0, 62.47], [402786.0, 58.38], [402787.0, 58.34], [402788.0, 61.05], [402789.0, 63.77], [402790.0, 68.13], [402791.0, 72.57], [402792.0, 78.67], [402793.0, 84.7], [402794.0, 90.0], [402795.0, 92.7], [402796.0, 99.8], [402797.0, 110.4], [402798.0, 111.9], [402799.0, 112.7], [402800.0, 113.6], [402801.0, 114.0], [402802.0, 114.0], [402803.0, 114.1], [402804.0, 114.3], [402805.0, 114.4], [402806.0, 114.5], [402807.0, 114.6], [402808.0, 114.4], [402809.0, 114.5], [402810.0, 114.5], [402811.0, 78.27], [402812.0, 73.84], [402813.0, 73.54], [402814.0, 71.23], [402815.0, 74.95], [402816.0, 90.5], [402817.0, 112.3], [402818.0, 111.9], [402819.0, 98.9], [402820.0, 103.2], [402821.0, 95.6], [402822.0, 91.5], [402823.0, 84.6], [402824.0, 77.85], [402825.0, 70.91], [402826.0, 63.93], [402827.0, 57.06], [402828.0, 57.46], [402829.0, 57.53], [402830.0, 51.73], [402831.0, 49.21], [402832.0, 49.21], [402833.0, 46.49], [402834.0, 46.49], [402835.0, 46.56], [402836.0, 44.28], [402837.0, 45.32], [402838.0, 49.48], [402839.0, 51.59], [402840.0, 56.66], [402841.0, 61.09], [402842.0, 60.15], [402843.0, 60.05], [402844.0, 59.38], [402845.0, 61.42], [402846.0, 62.43], [402847.0, 61.86], [402848.0, 61.21], [402849.0, 62.38], [402850.0, 63.69], [402851.0, 64.06], [402852.0, 66.44], [402853.0, 66.01]]}, \"id\": \"el531140308213647504\"});\n",
       "      });\n",
       "    });\n",
       "}else{\n",
       "    // require.js not available: dynamically load d3 & mpld3\n",
       "    mpld3_load_lib(\"https://mpld3.github.io/js/d3.v3.min.js\", function(){\n",
       "         mpld3_load_lib(\"https://mpld3.github.io/js/mpld3.v0.2.js\", function(){\n",
       "                 \n",
       "                 mpld3.draw_figure(\"fig_el5311403082136475044968389399\", {\"axes\": [{\"xlim\": [402688.0, 402853.0], \"yscale\": \"linear\", \"axesbg\": \"#FFFFFF\", \"texts\": [{\"v_baseline\": \"hanging\", \"h_anchor\": \"middle\", \"color\": \"#000000\", \"text\": \"Time (UTC)\", \"coordinates\": \"axes\", \"zorder\": 3, \"alpha\": 1, \"fontsize\": 10.0, \"position\": [0.5, -0.34838709677419349], \"rotation\": -0.0, \"id\": \"el531140307591359312\"}, {\"v_baseline\": \"auto\", \"h_anchor\": \"middle\", \"color\": \"#000000\", \"text\": \"%\", \"coordinates\": \"axes\", \"zorder\": 3, \"alpha\": 1, \"fontsize\": 10.0, \"position\": [-0.16868279569892475, 0.5], \"rotation\": -90.0, \"id\": \"el531140307591248208\"}, {\"v_baseline\": \"auto\", \"h_anchor\": \"middle\", \"color\": \"#000000\", \"text\": \"RHCroof (time in UTC)\", \"coordinates\": \"axes\", \"zorder\": 3, \"alpha\": 1, \"fontsize\": 12.0, \"position\": [0.5, 1.0448028673835126], \"rotation\": -0.0, \"id\": \"el531140308232121552\"}], \"zoomable\": true, \"images\": [], \"xdomain\": [[2015, 11, 9, 16, 0, 0, 0], [2015, 11, 16, 13, 0, 0, 0]], \"ylim\": [40.0, 120.0], \"paths\": [], \"sharey\": [], \"sharex\": [], \"axesbgalpha\": null, \"axes\": [{\"scale\": \"linear\", \"tickformat\": null, \"grid\": {\"gridOn\": false}, \"fontsize\": 10.0, \"position\": \"bottom\", \"nticks\": 2, \"tickvalues\": null}, {\"scale\": \"linear\", \"tickformat\": null, \"grid\": {\"gridOn\": false}, \"fontsize\": 10.0, \"position\": \"left\", \"nticks\": 9, \"tickvalues\": null}], \"lines\": [{\"color\": \"#0000FF\", \"yindex\": 1, \"coordinates\": \"data\", \"dasharray\": \"10,0\", \"zorder\": 2, \"alpha\": 1, \"xindex\": 0, \"linewidth\": 1.0, \"data\": \"data01\", \"id\": \"el531140308214129296\"}], \"markers\": [{\"edgecolor\": \"#000000\", \"facecolor\": \"#0000FF\", \"edgewidth\": 0.5, \"yindex\": 1, \"coordinates\": \"data\", \"zorder\": 2, \"markerpath\": [[[0.0, 3.0], [0.7956093000000001, 3.0], [1.5587396123545605, 2.683901074764725], [2.121320343559643, 2.121320343559643], [2.683901074764725, 1.5587396123545605], [3.0, 0.7956093000000001], [3.0, 0.0], [3.0, -0.7956093000000001], [2.683901074764725, -1.5587396123545605], [2.121320343559643, -2.121320343559643], [1.5587396123545605, -2.683901074764725], [0.7956093000000001, -3.0], [0.0, -3.0], [-0.7956093000000001, -3.0], [-1.5587396123545605, -2.683901074764725], [-2.121320343559643, -2.121320343559643], [-2.683901074764725, -1.5587396123545605], [-3.0, -0.7956093000000001], [-3.0, 0.0], [-3.0, 0.7956093000000001], [-2.683901074764725, 1.5587396123545605], [-2.121320343559643, 2.121320343559643], [-1.5587396123545605, 2.683901074764725], [-0.7956093000000001, 3.0], [0.0, 3.0]], [\"M\", \"C\", \"C\", \"C\", \"C\", \"C\", \"C\", \"C\", \"C\", \"Z\"]], \"alpha\": 1, \"xindex\": 0, \"data\": \"data01\", \"id\": \"el531140308214129296pts\"}], \"id\": \"el531140308209812432\", \"ydomain\": [40.0, 120.0], \"collections\": [], \"xscale\": \"date\", \"bbox\": [0.125, 0.125, 0.77500000000000002, 0.77500000000000002]}], \"height\": 160.0, \"width\": 240.0, \"plugins\": [{\"type\": \"reset\"}, {\"enabled\": false, \"button\": true, \"type\": \"zoom\"}, {\"enabled\": false, \"button\": true, \"type\": \"boxzoom\"}], \"data\": {\"data01\": [[402688.0, 62.99], [402689.0, 58.11], [402690.0, 55.08], [402691.0, 58.2], [402692.0, 59.64], [402693.0, 63.84], [402694.0, 67.63], [402695.0, 73.4], [402696.0, 77.76], [402697.0, 79.64], [402698.0, 80.9], [402699.0, 83.5], [402700.0, 84.0], [402701.0, 82.5], [402702.0, 83.7], [402703.0, 86.2], [402704.0, 87.0], [402705.0, 86.8], [402706.0, 88.6], [402707.0, 91.1], [402708.0, 91.5], [402709.0, 92.3], [402710.0, 86.2], [402711.0, 80.1], [402712.0, 70.28], [402713.0, 64.54], [402714.0, 58.91], [402715.0, 52.39], [402716.0, 51.14], [402717.0, 53.12], [402718.0, 60.77], [402719.0, 66.15], [402720.0, 66.52], [402721.0, 74.91], [402722.0, 74.51], [402723.0, 79.7], [402724.0, 84.4], [402725.0, 86.6], [402726.0, 88.7], [402727.0, 88.7], [402728.0, 90.8], [402729.0, 91.4], [402730.0, 93.3], [402731.0, 96.2], [402732.0, 95.1], [402733.0, 99.1], [402734.0, 93.6], [402735.0, 90.0], [402736.0, 79.77], [402737.0, 71.96], [402738.0, 66.12], [402739.0, 63.26], [402740.0, 65.8], [402741.0, 66.78], [402742.0, 69.64], [402743.0, 71.42], [402744.0, 76.18], [402745.0, 79.27], [402746.0, 78.33], [402747.0, 78.4], [402748.0, 81.7], [402749.0, 83.2], [402750.0, 82.6], [402751.0, 80.2], [402752.0, 86.8], [402753.0, 86.9], [402754.0, 89.3], [402755.0, 90.3], [402756.0, 91.0], [402757.0, 95.1], [402758.0, 84.6], [402759.0, 73.26], [402760.0, 62.19], [402761.0, 61.44], [402762.0, 58.38], [402763.0, 56.74], [402764.0, 56.71], [402765.0, 56.41], [402766.0, 59.05], [402767.0, 64.96], [402768.0, 70.62], [402769.0, 73.51], [402770.0, 71.43], [402771.0, 71.53], [402772.0, 73.24], [402773.0, 74.59], [402774.0, 77.27], [402775.0, 77.31], [402776.0, 80.6], [402777.0, 80.7], [402778.0, 81.7], [402779.0, 84.2], [402780.0, 85.6], [402781.0, 86.1], [402782.0, 85.0], [402783.0, 78.35], [402784.0, 62.88], [402785.0, 62.47], [402786.0, 58.38], [402787.0, 58.34], [402788.0, 61.05], [402789.0, 63.77], [402790.0, 68.13], [402791.0, 72.57], [402792.0, 78.67], [402793.0, 84.7], [402794.0, 90.0], [402795.0, 92.7], [402796.0, 99.8], [402797.0, 110.4], [402798.0, 111.9], [402799.0, 112.7], [402800.0, 113.6], [402801.0, 114.0], [402802.0, 114.0], [402803.0, 114.1], [402804.0, 114.3], [402805.0, 114.4], [402806.0, 114.5], [402807.0, 114.6], [402808.0, 114.4], [402809.0, 114.5], [402810.0, 114.5], [402811.0, 78.27], [402812.0, 73.84], [402813.0, 73.54], [402814.0, 71.23], [402815.0, 74.95], [402816.0, 90.5], [402817.0, 112.3], [402818.0, 111.9], [402819.0, 98.9], [402820.0, 103.2], [402821.0, 95.6], [402822.0, 91.5], [402823.0, 84.6], [402824.0, 77.85], [402825.0, 70.91], [402826.0, 63.93], [402827.0, 57.06], [402828.0, 57.46], [402829.0, 57.53], [402830.0, 51.73], [402831.0, 49.21], [402832.0, 49.21], [402833.0, 46.49], [402834.0, 46.49], [402835.0, 46.56], [402836.0, 44.28], [402837.0, 45.32], [402838.0, 49.48], [402839.0, 51.59], [402840.0, 56.66], [402841.0, 61.09], [402842.0, 60.15], [402843.0, 60.05], [402844.0, 59.38], [402845.0, 61.42], [402846.0, 62.43], [402847.0, 61.86], [402848.0, 61.21], [402849.0, 62.38], [402850.0, 63.69], [402851.0, 64.06], [402852.0, 66.44], [402853.0, 66.01]]}, \"id\": \"el531140308213647504\"});\n",
       "            })\n",
       "         });\n",
       "}\n",
       "</script>"
      ],
      "text/plain": [
       "<matplotlib.figure.Figure at 0x7f9c0d3bc890>"
      ]
     },
     "metadata": {},
     "output_type": "display_data"
    }
   ],
   "source": [
    "scW = widgets.Select(options=datafiles)\n",
    "init = scW.value\n",
    "paramW = widgets.Select(options=[])\n",
    "i = widgets.interactive(select_param, datafile=scW)\n",
    "j = widgets.interactive(plot_param, param=paramW)\n",
    "display(i)\n",
    "display(j)"
   ]
  },
  {
   "cell_type": "code",
   "execution_count": 117,
   "metadata": {
    "collapsed": false
   },
   "outputs": [],
   "source": [
    "cp -f output/* ../../web/butler/dataplots/"
   ]
  },
  {
   "cell_type": "code",
   "execution_count": 114,
   "metadata": {
    "collapsed": false
   },
   "outputs": [
    {
     "data": {
      "text/plain": [
       "'%'"
      ]
     },
     "execution_count": 114,
     "metadata": {},
     "output_type": "execute_result"
    }
   ],
   "source": [
    "units[df.columns.get_loc(\"RHCroof\")]"
   ]
  },
  {
   "cell_type": "code",
   "execution_count": null,
   "metadata": {
    "collapsed": true
   },
   "outputs": [],
   "source": []
  }
 ],
 "metadata": {
  "kernelspec": {
   "display_name": "Python 2",
   "language": "python",
   "name": "python2"
  },
  "language_info": {
   "codemirror_mode": {
    "name": "ipython",
    "version": 2
   },
   "file_extension": ".py",
   "mimetype": "text/x-python",
   "name": "python",
   "nbconvert_exporter": "python",
   "pygments_lexer": "ipython2",
   "version": "2.7.11"
  }
 },
 "nbformat": 4,
 "nbformat_minor": 0
}
