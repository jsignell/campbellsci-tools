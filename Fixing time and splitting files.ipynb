{
 "cells": [
  {
   "cell_type": "markdown",
   "metadata": {},
   "source": [
    "## Fixing timezone and splitting files"
   ]
  },
  {
   "cell_type": "code",
   "execution_count": 1,
   "metadata": {
    "collapsed": false
   },
   "outputs": [],
   "source": [
    "import os\n",
    "import datetime as dt\n",
    "import pandas as pd\n",
    "import numpy as np\n",
    "import matplotlib.pyplot as plt\n",
    "import mpld3\n",
    "\n",
    "%matplotlib inline\n",
    "mpld3.enable_notebook()"
   ]
  },
  {
   "cell_type": "code",
   "execution_count": 2,
   "metadata": {
    "collapsed": true
   },
   "outputs": [],
   "source": [
    "#path = 'C:/Users/Julia/work/LoggerNet/'\n",
    "path = '../../CloudStation/LoggerNet/'\n",
    "datafiles=['CR1000_Table1.dat',\n",
    "           'CR1000_Table2.dat',\n",
    "           'CR5000_onemin.dat',\n",
    "           'CR5000_flux.dat',\n",
    "           'CL06_CR1000_IP_Table1.dat',\n",
    "           'Wash_Strm_CR200_IP_Table1.dat',\n",
    "           'Upper WS CR200_Table1.dat'\n",
    "          ]"
   ]
  },
  {
   "cell_type": "code",
   "execution_count": 117,
   "metadata": {
    "collapsed": false
   },
   "outputs": [],
   "source": [
    "def read_campbellsci(path, datafile):\n",
    "    filename = path + datafile\n",
    "    df = pd.read_csv(filename, skiprows=[0,2,3], index_col=0, parse_dates=True,\n",
    "                     na_values=[\"NAN\", \"INF\", \"-INF\", 7999, -7999], low_memory=False)\n",
    "    f = open(filename, 'r')\n",
    "    lines = f.readlines()\n",
    "    f.close()\n",
    "    UnitsLine = lines[2].strip('\\r\\n')\n",
    "    MethodLine = lines[3].strip('\\r\\n')\n",
    "    \n",
    "    units = UnitsLine.replace('\"','').split(',')[1:]\n",
    "    method = MethodLine.replace('\"','').split(',')[1:]\n",
    "    return df, units, method"
   ]
  },
  {
   "cell_type": "code",
   "execution_count": 121,
   "metadata": {
    "collapsed": false
   },
   "outputs": [],
   "source": [
    "df, units, method = read_campbellsci(path, 'CL06_CR1000_IP_Table1.dat')"
   ]
  },
  {
   "cell_type": "code",
   "execution_count": 122,
   "metadata": {
    "collapsed": false
   },
   "outputs": [
    {
     "data": {
      "text/plain": [
       "Index([u'RECORD', u'AirTC_Avg', u'RH', u'WS_ms_S_WVT', u'WindDir_D1_WVT',\n",
       "       u'WindDir_SD1_WVT', u'Lvl_cm_Avg', u'Temp_C_Avg', u'CTDM_Avg',\n",
       "       u'BattV_Min'],\n",
       "      dtype='object')"
      ]
     },
     "execution_count": 122,
     "metadata": {},
     "output_type": "execute_result"
    }
   ],
   "source": [
    "df.columns"
   ]
  },
  {
   "cell_type": "code",
   "execution_count": 123,
   "metadata": {
    "collapsed": false
   },
   "outputs": [],
   "source": [
    "df_all = df_all[df.columns]"
   ]
  },
  {
   "cell_type": "code",
   "execution_count": 124,
   "metadata": {
    "collapsed": false
   },
   "outputs": [],
   "source": [
    "methods.append('Min')"
   ]
  },
  {
   "cell_type": "code",
   "execution_count": 125,
   "metadata": {
    "collapsed": false
   },
   "outputs": [
    {
     "data": {
      "text/plain": [
       "['', 'Avg', 'Smp', 'WVc', 'WVc', 'WVc', 'Avg', 'Avg', 'Avg', 'Min']"
      ]
     },
     "execution_count": 125,
     "metadata": {},
     "output_type": "execute_result"
    }
   ],
   "source": [
    "methods"
   ]
  },
  {
   "cell_type": "code",
   "execution_count": 120,
   "metadata": {
    "collapsed": false
   },
   "outputs": [],
   "source": [
    "df_all = None\n",
    "for f in os.listdir(path):\n",
    "    if 'CL06_CR1000_IP_Table1' in f and f.endswith('.dat'):\n",
    "        df, units, methods = read_campbellsci(path, datafile=f)\n",
    "        df_all = pd.concat((df_all, df))\n",
    "df_all = df_all.sort_index()"
   ]
  },
  {
   "cell_type": "code",
   "execution_count": 126,
   "metadata": {
    "collapsed": false
   },
   "outputs": [],
   "source": [
    "#This is for all the Washington sites\n",
    "new = df_all[:'2015-10-14 14:00'].index + pd.DateOffset(hours=4)\n",
    "new = new.append(df_all['2015-10-14 15:00':].index)\n",
    "df_all = df_all.set_index(new)\n",
    "columns = pd.MultiIndex.from_tuples(zip(df_all.columns, units, methods))\n",
    "df_all.set_axis(1, columns)\n",
    "df_all.insert(0, 'TIMESTAMP', df_all.index)"
   ]
  },
  {
   "cell_type": "code",
   "execution_count": 132,
   "metadata": {
    "collapsed": true
   },
   "outputs": [],
   "source": [
    "df_all['2016'].to_csv('../../data/CL06_CR1000_IP_Table1_2016.dat', index=False)"
   ]
  },
  {
   "cell_type": "code",
   "execution_count": 135,
   "metadata": {
    "collapsed": false
   },
   "outputs": [
    {
     "data": {
      "text/plain": [
       "0"
      ]
     },
     "execution_count": 135,
     "metadata": {},
     "output_type": "execute_result"
    }
   ],
   "source": [
    "os.system(\"cp -f ../../data/Wash* ../../web/washington/datafiles/\")"
   ]
  },
  {
   "cell_type": "code",
   "execution_count": 67,
   "metadata": {
    "collapsed": false
   },
   "outputs": [],
   "source": [
    "# This is for Butler\n",
    "new = df_all[:'2013-03-26 07:00'].index + pd.DateOffset(hours=5)\n",
    "new = new.append(df_all['2013-03-26 08:00':'2014-01-28'].index + pd.DateOffset(hours=4))\n",
    "new = new.append(df_all['2014-01-29':'2014-06-27 05:00'].index + pd.DateOffset(hours=5))\n",
    "new = new.append(df_all['2014-06-27 06:00':'2014-12-01'].index + pd.DateOffset(hours=4))\n",
    "new = new.append(df_all['2014-12-02':'2015-05-09 04:00'].index + pd.DateOffset(hours=5))\n",
    "new = new.append(df_all['2015-05-09 05:00':'2015-10-14 14:00'].index + pd.DateOffset(hours=4))\n",
    "new = new.append(df_all['2015-10-14 15:00':].index) "
   ]
  },
  {
   "cell_type": "code",
   "execution_count": 68,
   "metadata": {
    "collapsed": false
   },
   "outputs": [
    {
     "data": {
      "text/plain": [
       "(24611, 24611)"
      ]
     },
     "execution_count": 68,
     "metadata": {},
     "output_type": "execute_result"
    }
   ],
   "source": [
    "df_all = df_all.set_index(new)"
   ]
  },
  {
   "cell_type": "code",
   "execution_count": 183,
   "metadata": {
    "collapsed": true
   },
   "outputs": [],
   "source": [
    "columns = pd.MultiIndex.from_tuples(zip(df_all.columns, units, methods))\n",
    "df_all.set_axis(1, columns)\n",
    "df_all.insert(0, 'TIMESTAMP', df_all.index)"
   ]
  },
  {
   "cell_type": "code",
   "execution_count": 185,
   "metadata": {
    "collapsed": false
   },
   "outputs": [],
   "source": [
    "df_all['2015'].to_csv('../../data/CR5000_flux_2015.dat', index=False)"
   ]
  },
  {
   "cell_type": "code",
   "execution_count": 166,
   "metadata": {
    "collapsed": false
   },
   "outputs": [
    {
     "data": {
      "text/plain": [
       "0"
      ]
     },
     "execution_count": 166,
     "metadata": {},
     "output_type": "execute_result"
    }
   ],
   "source": [
    "os.system(\"cp -f ../../data/CR1000_Table1* ../../web/butler/datafiles/\")"
   ]
  },
  {
   "cell_type": "code",
   "execution_count": 134,
   "metadata": {
    "collapsed": false
   },
   "outputs": [],
   "source": [
    "df_2016 = pd.read_csv('../../data/'+'CR1000_Table1_2016.dat', index_col=0, parse_dates=True, \n",
    "                 low_memory=False, skiprows=[1,2,3])"
   ]
  },
  {
   "cell_type": "code",
   "execution_count": 211,
   "metadata": {
    "collapsed": true
   },
   "outputs": [],
   "source": [
    "def update_file(datafile, year):\n",
    "\t# add new values to this year's file\n",
    "    df_year = pd.read_csv('../../data/'+'{d}_{year}.dat'.format(d=datafile, year=year), \n",
    "                          index_col=0, parse_dates=True, low_memory=False, skiprows=[1,2,3])\n",
    "    df, units, method = read_campbellsci('../../CloudStation/LoggerNet/','{d}.dat'.format(d=datafile))\n",
    "\n",
    "    if df.index[-1] == df_year.index[-1]:\n",
    "        return\n",
    "    df_all = pd.concat((df_year,df[df.index.difference(df_year.index)[0]:]))\n",
    "    columns = pd.MultiIndex.from_tuples(zip(df_all.columns, units, methods))\n",
    "    df_all.set_axis(1, columns)\n",
    "    df_all.insert(0, 'TIMESTAMP', df_all.index)\n",
    "    df_all.to_csv('../../data/{d}_{year}.dat'.format(d=datafile, year=year), index=False)"
   ]
  },
  {
   "cell_type": "code",
   "execution_count": 212,
   "metadata": {
    "collapsed": true
   },
   "outputs": [],
   "source": [
    "update_file('CR5000_flux', '2016')"
   ]
  },
  {
   "cell_type": "code",
   "execution_count": 191,
   "metadata": {
    "collapsed": false
   },
   "outputs": [],
   "source": [
    "datafile = 'CR1000_Table1'\n",
    "year = '2016'"
   ]
  },
  {
   "cell_type": "code",
   "execution_count": 195,
   "metadata": {
    "collapsed": false
   },
   "outputs": [],
   "source": [
    "df_year = pd.read_csv('../../data/'+'{d}_{year}.dat'.format(d=datafile, year=year), \n",
    "                      index_col=0, parse_dates=True, low_memory=False, skiprows=[1,2,3])\n",
    "df, units, method = read_campbellsci('../../CloudStation/LoggerNet/','{d}.dat'.format(d=datafile))\n",
    "\n",
    "if df.index[-1] == df_year.index[-1]:\n",
    "    print df.index[-1]\n",
    "df_all = pd.concat((df_year,df[df.index.difference(df_year.index)[0]:]))\n",
    "columns = pd.MultiIndex.from_tuples(zip(df_all.columns, units, methods))\n",
    "df_all.set_axis(1, columns)\n",
    "    df_all.insert(0, 'TIMESTAMP', df_all.index)\n",
    "    df_all.to_csv(path+'{d}_{year}.dat'.format(d=datafile, year=year), index=False)"
   ]
  },
  {
   "cell_type": "code",
   "execution_count": 217,
   "metadata": {
    "collapsed": false
   },
   "outputs": [
    {
     "data": {
      "text/plain": [
       "'../../CloudStation/LoggerNet/'"
      ]
     },
     "execution_count": 217,
     "metadata": {},
     "output_type": "execute_result"
    }
   ],
   "source": [
    "path"
   ]
  },
  {
   "cell_type": "code",
   "execution_count": 218,
   "metadata": {
    "collapsed": false
   },
   "outputs": [
    {
     "data": {
      "text/plain": [
       "0"
      ]
     },
     "execution_count": 218,
     "metadata": {},
     "output_type": "execute_result"
    }
   ],
   "source": [
    "os.system(\"cp -f ../../data/{d}_{year}.dat ../../web/ecs/datafiles/\".format(d='CR5000_flux', year='2016'))"
   ]
  },
  {
   "cell_type": "code",
   "execution_count": null,
   "metadata": {
    "collapsed": true
   },
   "outputs": [],
   "source": [
    "df_all.index[-1]"
   ]
  },
  {
   "cell_type": "code",
   "execution_count": 219,
   "metadata": {
    "collapsed": true
   },
   "outputs": [],
   "source": [
    "def update_file(datafile, year):\n",
    "\t# add new values to this year's file\n",
    "    df_year = pd.read_csv('../../data/'+'{d}_{year}.dat'.format(d=datafile, year=year), \n",
    "                          index_col=0, parse_dates=True, low_memory=False, skiprows=[1,2,3])\n",
    "    df, units, method = read_campbellsci('../../CloudStation/LoggerNet/','{d}.dat'.format(d=datafile))\n",
    "\n",
    "    if df.index[-1] == df_year.index[-1]:\n",
    "        return\n",
    "    df_all = pd.concat((df_year,df[df.index.difference(df_year.index)[0]:]))\n",
    "    columns = pd.MultiIndex.from_tuples(zip(df_all.columns, units, methods))\n",
    "    df_all.set_axis(1, columns)\n",
    "    df_all.insert(0, 'TIMESTAMP', df_all.index)\n",
    "    df_all.to_csv('../../data/{d}_{year}.dat'.format(d=datafile, year=year), index=False)"
   ]
  },
  {
   "cell_type": "code",
   "execution_count": 222,
   "metadata": {
    "collapsed": false
   },
   "outputs": [
    {
     "data": {
      "text/plain": [
       "0"
      ]
     },
     "execution_count": 222,
     "metadata": {},
     "output_type": "execute_result"
    }
   ],
   "source": [
    "out_path = './output/ecs/'\n",
    "path = '../../data/'\n",
    "params = ['TCroof_Avg', 'RHCroof', 'DnTot_Avg', 'UpTot_Avg', 'Rain_mm_3_Tot', 'WindSpd_ms']\n",
    "update_file(datafile='CR5000_flux', year='2016')\n",
    "os.system(\"cp -f {p}{d}_{year}.dat ../../web/ecs/datafiles/\".format(p=path, d='CR5000_flux', year='2016'))"
   ]
  },
  {
   "cell_type": "code",
   "execution_count": null,
   "metadata": {
    "collapsed": true
   },
   "outputs": [],
   "source": []
  }
 ],
 "metadata": {
  "kernelspec": {
   "display_name": "Python 2",
   "language": "python",
   "name": "python2"
  },
  "language_info": {
   "codemirror_mode": {
    "name": "ipython",
    "version": 2
   },
   "file_extension": ".py",
   "mimetype": "text/x-python",
   "name": "python",
   "nbconvert_exporter": "python",
   "pygments_lexer": "ipython2",
   "version": "2.7.11"
  }
 },
 "nbformat": 4,
 "nbformat_minor": 0
}
